{
 "metadata": {
  "name": ""
 },
 "nbformat": 3,
 "nbformat_minor": 0,
 "worksheets": [
  {
   "cells": [
    {
     "cell_type": "code",
     "collapsed": false,
     "input": [
      "%pylab inline\n",
      "import random, math, pylab\n",
      "\n",
      "def direct_pi(N):\n",
      "    n_hits = 0\n",
      "    for i in range(N):\n",
      "        x, y = random.uniform(-1.0, 1.0), random.uniform(-1.0, 1.0)\n",
      "        if x ** 2 + y ** 2 < 1.0:\n",
      "            n_hits += 1\n",
      "    return n_hits\n",
      "\n",
      "n_runs = 500\n",
      "n_trials_list = []\n",
      "sigmas = []\n",
      "for poweroftwo in range(4, 13):\n",
      "    n_trials = 2 ** poweroftwo\n",
      "    sigma = 0.0\n",
      "    for run in range(n_runs):\n",
      "        pi_est = 4.0 * direct_pi(n_trials) / float(n_trials)\n",
      "        sigma += (pi_est - math.pi) ** 2\n",
      "    sigmas.append(math.sqrt(sigma/(n_runs)))\n",
      "    n_trials_list.append(n_trials)\n",
      "\n",
      "pylab.plot(n_trials_list, sigmas, 'o')\n",
      "#pylab.gca().set_xscale('log')\n",
      "#pylab.gca().set_yscale('log')\n",
      "pylab.xlabel('n_trials')\n",
      "pylab.ylabel('$\\sigma$')\n",
      "pylab.title('Direct sampling: Standard deviation $\\sigma$ as a function of n_trials')\n",
      "pylab.savefig('direct_sampling_statistical_error.png')\n",
      "pylab.show()"
     ],
     "language": "python",
     "metadata": {},
     "outputs": [
      {
       "output_type": "stream",
       "stream": "stdout",
       "text": [
        "Populating the interactive namespace from numpy and matplotlib\n"
       ]
      },
      {
       "output_type": "stream",
       "stream": "stderr",
       "text": [
        "WARNING: pylab import has clobbered these variables: ['pylab', 'random']\n",
        "`%pylab --no-import-all` prevents importing * from pylab and numpy\n"
       ]
      },
      {
       "metadata": {},
       "output_type": "display_data",
       "png": "[encoded data removed]",
       "text": [
        "<matplotlib.figure.Figure at 0x2abb4d0>"
       ]
      },
      {
       "output_type": "stream",
       "stream": "stdout",
       "text": [
        "(4096, [0.39238164607821596, 0.29449296827366594, 0.19828691763583847, 0.14435938322822048, 0.09740831491966666, 0.0747118382622903, 0.05174152005556878, 0.03702568976384072, 0.025222591928808876])\n"
       ]
      }
     ],
     "prompt_number": 4
    },
    {
     "cell_type": "code",
     "collapsed": false,
     "input": [
      "xs = [2**n for n in range(4, 13)]\n",
      "ys = [0.39238164607821596, 0.29449296827366594, 0.19828691763583847, 0.14435938322822048, 0.09740831491966666, 0.0747118382622903, 0.05174152005556878, 0.03702568976384072, 0.025222591928808876]\n",
      "for x, y in zip(xs, ys):\n",
      "    print(math.log(y, x))\n",
      "    \n"
     ],
     "language": "python",
     "metadata": {},
     "outputs": [
      {
       "output_type": "stream",
       "stream": "stdout",
       "text": [
        "-0.337417633702\n",
        "-0.352738981645\n",
        "-0.389056433131\n",
        "-0.398894744343\n",
        "-0.4199764077\n",
        "-0.415835481145\n",
        "-0.427253375182\n",
        "-0.43230268887\n",
        "-0.442428304332\n"
       ]
      }
     ],
     "prompt_number": 5
    },
    {
     "cell_type": "code",
     "collapsed": false,
     "input": [
      "import random\n",
      "import pylab\n",
      "\n",
      "\n",
      "def markov_pi(N, delta): \n",
      "    x, y = 1.0, 1.0\n",
      "    n_hits = 0\n",
      "    for i in range(N):\n",
      "        del_x, del_y = random.uniform(-delta, delta), random.uniform(-delta, delta)\n",
      "        if abs(x + del_x) < 1.0 and abs(y + del_y) < 1.0:\n",
      "            x, y = x + del_x, y + del_y\n",
      "        if x**2 + y**2 < 1.0: n_hits += 1\n",
      "    return n_hits\n",
      "\n",
      "n_runs = 500\n",
      "n_trials = 1000\n",
      "deltas = [.03, .04, .05] + [i/10. for i in range(1, 6)]\n",
      "accepts = []\n",
      "for delta in deltas:\n",
      "    a = [markov_pi(n_trials, delta) / float(n_trials) for run in range(n_runs)]\n",
      "    accepts.append(sum(a)/float(n_runs))\n",
      "        \n",
      "pylab.plot(deltas, accepts, 'o')\n",
      "#pylab.xlim((0, 4))\n",
      "pylab.xlabel('$delta$')\n",
      "pylab.ylabel('accepts')\n",
      "#pylab.title('Direct sampling: Standard deviation $\\sigma$ as a function of n_trials')\n",
      "pylab.savefig('deltas.png')\n",
      "pylab.show()\n"
     ],
     "language": "python",
     "metadata": {},
     "outputs": [
      {
       "metadata": {},
       "output_type": "display_data",
       "png": "[encoded data removed]",
       "text": [
        "<matplotlib.figure.Figure at 0x3dfe5d0>"
       ]
      }
     ],
     "prompt_number": 22
    },
    {
     "cell_type": "code",
     "collapsed": false,
     "input": [
      "import random\n",
      "import pylab\n",
      "\n",
      "\n",
      "def markov_pi(N, delta): \n",
      "    x, y = 1.0, 1.0\n",
      "    n_hits = 0\n",
      "    for i in range(N):\n",
      "        del_x, del_y = random.uniform(-delta, delta), random.uniform(-delta, delta)\n",
      "        if abs(x + del_x) < 1.0 and abs(y + del_y) < 1.0:\n",
      "            x, y = x + del_x, y + del_y\n",
      "        if x**2 + y**2 < 1.0: n_hits += 1\n",
      "    return n_hits\n",
      "\n",
      "n_runs = 500\n",
      "n_trials = 1000\n",
      "deltas = [i/10. for i in range(1, 51)]\n",
      "sigmas = []\n",
      "for delta in deltas:\n",
      "    sigma = 0.\n",
      "    for run in range(n_runs):\n",
      "        pi = 4. * markov_pi(n_trials, delta) / float(n_trials) \n",
      "        sigma += (pi - math.pi) ** 2\n",
      "    sigmas.append(math.sqrt(sigma/(n_runs)))\n",
      "        \n",
      "pylab.plot(deltas, sigmas, 'o')\n",
      "#pylab.xlim((0, 4))\n",
      "pylab.xlabel('$\\delta$')\n",
      "pylab.ylabel('$\\sigma$')\n",
      "#pylab.title('Direct sampling: Standard deviation $\\sigma$ as a function of n_trials')\n",
      "pylab.savefig('delta_sigma.png')\n",
      "pylab.show()\n"
     ],
     "language": "python",
     "metadata": {},
     "outputs": [
      {
       "metadata": {},
       "output_type": "display_data",
       "png": "[encoded data removed]",
       "text": [
        "<matplotlib.figure.Figure at 0x36c5850>"
       ]
      }
     ],
     "prompt_number": 21
    },
    {
     "cell_type": "code",
     "collapsed": false,
     "input": [
      "import random, math\n",
      "\n",
      "def markov_pi_all_data(N, delta):\n",
      "    x, y = 1.0, 1.0\n",
      "    data_sum = 0.0\n",
      "    data_sum_sq = 0.0\n",
      "    for i in range(N):\n",
      "        del_x, del_y = random.uniform(-delta, delta), random.uniform(-delta, delta)\n",
      "        if abs(x + del_x) < 1.0 and abs(y + del_y) < 1.0:\n",
      "            x, y = x + del_x, y + del_y\n",
      "        if x ** 2 + y ** 2 < 1.0:\n",
      "            data_sum += 4.0\n",
      "            data_sum_sq += 4.0 ** 2\n",
      "    return data_sum / float(N), data_sum_sq / float(N)\n",
      "\n",
      "n_trials = 2 ** 14\n",
      "delta = 0.1\n",
      "n_parties = 100\n",
      "inside_error_bar = 0\n",
      "for iteration in range(n_parties):\n",
      "    mean, mean_square = markov_pi_all_data(n_trials, delta)\n",
      "    naive_error = math.sqrt(mean_square  - mean ** 2) / math.sqrt(n_trials)\n",
      "    error =  abs(mean - math.pi)\n",
      "    if error < naive_error: inside_error_bar += 1\n",
      "    print mean, error, naive_error\n",
      "print inside_error_bar / float(n_parties),'fraction: error bar including pi'"
     ],
     "language": "python",
     "metadata": {},
     "outputs": [
      {
       "output_type": "stream",
       "stream": "stdout",
       "text": [
        "3.0595703125 0.0820223410898 0.0132520606466\n",
        "3.1455078125 0.00391515891021 0.0128082401729\n",
        "3.19848632812"
       ]
      },
      {
       "output_type": "stream",
       "stream": "stdout",
       "text": [
        " 0.0568936745352 0.0125088604371\n",
        "3.14526367188"
       ]
      },
      {
       "output_type": "stream",
       "stream": "stdout",
       "text": [
        " 0.00367101828521 0.0128095726503\n",
        "2.82739257812 0.314200075465 0.0142252335872\n",
        "3.10791015625"
       ]
      },
      {
       "output_type": "stream",
       "stream": "stdout",
       "text": [
        " 0.0336824973398 0.0130085399705\n",
        "2.98168945312 0.159903200465 0.0136132354456\n",
        "3.04565429688"
       ]
      },
      {
       "output_type": "stream",
       "stream": "stdout",
       "text": [
        " 0.0959383567148 0.0133193550138\n",
        "2.9033203125 0.23827234109 0.0139404696883\n",
        "3.2158203125"
       ]
      },
      {
       "output_type": "stream",
       "stream": "stdout",
       "text": [
        " 0.0742276589102 0.0124063409349\n",
        "2.99145507812 0.150137575465 0.013569970284\n",
        "3.12524414062"
       ]
      },
      {
       "output_type": "stream",
       "stream": "stdout",
       "text": [
        " 0.0163485129648 0.0129174097295\n",
        "2.99243164062 0.149161012965 0.0135656125791\n",
        "3.11157226562"
       ]
      },
      {
       "output_type": "stream",
       "stream": "stdout",
       "text": [
        " 0.0300203879648 0.0129894580019\n",
        "3.25073242188 0.109139768285 0.012192678209\n",
        "3.09716796875"
       ]
      },
      {
       "output_type": "stream",
       "stream": "stdout",
       "text": [
        " 0.0444246848398 0.0130639915051\n",
        "3.15356445312 0.0119717995352 0.0127640304918\n",
        "3.12084960938"
       ]
      },
      {
       "output_type": "stream",
       "stream": "stdout",
       "text": [
        " 0.0207430442148 0.012940707995\n",
        "3.01733398438 0.124258669215 0.013452552353\n",
        "3.28881835938"
       ]
      },
      {
       "output_type": "stream",
       "stream": "stdout",
       "text": [
        " 0.147225705785 0.0119481383505\n",
        "3.06689453125 0.0746981223398 0.0132161457134\n",
        "3.23828125"
       ]
      },
      {
       "output_type": "stream",
       "stream": "stdout",
       "text": [
        " 0.0966885964102 0.0122700020701\n",
        "3.0849609375 0.0566317160898 0.0131260689764\n",
        "3.30981445312"
       ]
      },
      {
       "output_type": "stream",
       "stream": "stdout",
       "text": [
        " 0.168221799535 0.0118079575901\n",
        "2.98828125 0.15331140359 0.0135840935775\n",
        "3.19653320312"
       ]
      },
      {
       "output_type": "stream",
       "stream": "stdout",
       "text": [
        " 0.0549405495352 0.0125202674896\n",
        "3.06616210938 0.0754305442148 0.0132197527428\n",
        "3.23461914062"
       ]
      },
      {
       "output_type": "stream",
       "stream": "stdout",
       "text": [
        " 0.0930264870352 0.0122925053227\n",
        "3.0166015625 0.12499109109 0.0134559313618\n",
        "3.09155273438"
       ]
      },
      {
       "output_type": "stream",
       "stream": "stdout",
       "text": [
        " 0.0500399192148 0.0130926699754\n",
        "3.2216796875 0.0800870339102 0.0123711590994\n",
        "3.26782226562"
       ]
      },
      {
       "output_type": "stream",
       "stream": "stdout",
       "text": [
        " 0.126229612035 0.0120844670819\n",
        "2.78686523438 0.354727419215 0.0143648977387\n",
        "3.19677734375"
       ]
      },
      {
       "output_type": "stream",
       "stream": "stdout",
       "text": [
        " 0.0551846901602 0.0125188431936\n",
        "3.12133789062 0.0202547629648 0.0129381258695\n",
        "2.97827148438"
       ]
      },
      {
       "output_type": "stream",
       "stream": "stdout",
       "text": [
        " 0.163321169215 0.0136282448985\n",
        "3.06274414062 0.0788485129648 0.0132365398437\n",
        "3.17626953125"
       ]
      },
      {
       "output_type": "stream",
       "stream": "stdout",
       "text": [
        " 0.0346768776602 0.0126369209795\n",
        "3.21923828125 0.0776456276602 0.0123858509027\n",
        "3.16357421875"
       ]
      },
      {
       "output_type": "stream",
       "stream": "stdout",
       "text": [
        " 0.0219815651602 0.012708454826\n",
        "3.22705078125 0.0854581276602 0.0123386717705\n",
        "2.99487304688"
       ]
      },
      {
       "output_type": "stream",
       "stream": "stdout",
       "text": [
        " 0.146719606715 0.0135546934001\n",
        "3.44189453125 0.30030187766 0.0108279676236\n",
        "3.09741210938"
       ]
      },
      {
       "output_type": "stream",
       "stream": "stdout",
       "text": [
        " 0.0441805442148 0.0130627398448\n",
        "3.18310546875 0.0415128151602 0.0125979110919\n",
        "3.193359375"
       ]
      },
      {
       "output_type": "stream",
       "stream": "stdout",
       "text": [
        " 0.0517667214102 0.0125387422129\n",
        "3.00415039062 0.137442262965 0.0135128745237\n",
        "3.130859375"
       ]
      },
      {
       "output_type": "stream",
       "stream": "stdout",
       "text": [
        " 0.0107332785898 0.0128874453322\n",
        "3.03369140625 0.10790124734 0.0133762276667\n",
        "3.06298828125"
       ]
      },
      {
       "output_type": "stream",
       "stream": "stdout",
       "text": [
        " 0.0786043723398 0.0132353432578\n",
        "3.35620117188"
       ]
      },
      {
       "output_type": "stream",
       "stream": "stdout",
       "text": [
        " 0.214608518285 0.0114838923724\n",
        "3.08056640625 0.0610262473398 0.0131481757849\n",
        "3.1005859375"
       ]
      },
      {
       "output_type": "stream",
       "stream": "stdout",
       "text": [
        " 0.0410067160898 0.0130464319586\n",
        "3.13842773438 0.00316491921479 0.0128467109327\n",
        "2.99877929688"
       ]
      },
      {
       "output_type": "stream",
       "stream": "stdout",
       "text": [
        " 0.142813356715 0.0135371484964\n",
        "3.00708007812 0.134512575465 0.0134995608025\n",
        "3.18383789062"
       ]
      },
      {
       "output_type": "stream",
       "stream": "stdout",
       "text": [
        " 0.0422452370352 0.0125937108616\n",
        "3.15063476562 0.00904211203521 0.0127801603011\n",
        "3.05541992188"
       ]
      },
      {
       "output_type": "stream",
       "stream": "stdout",
       "text": [
        " 0.0861727317148 0.0132722597985\n",
        "3.19384765625 0.0522550026602 0.0125359049122\n",
        "3.21044921875"
       ]
      },
      {
       "output_type": "stream",
       "stream": "stdout",
       "text": [
        " 0.0688565651602 0.0124383555395\n",
        "3.11328125 0.0283114035898 0.0129805219031\n",
        "3.0"
       ]
      },
      {
       "output_type": "stream",
       "stream": "stdout",
       "text": [
        " 0.14159265359 0.0135316469341\n",
        "3.05102539062 0.0905672629648 0.0132935274784\n",
        "2.98657226562"
       ]
      },
      {
       "output_type": "stream",
       "stream": "stdout",
       "text": [
        " 0.155020387965 0.0135916736127\n",
        "3.111328125 0.0302645285898 0.0129907329655\n",
        "3.15673828125"
       ]
      },
      {
       "output_type": "stream",
       "stream": "stdout",
       "text": [
        " 0.0151456276602 0.0127464871192\n",
        "3.10083007812 0.0407625754648 0.0130451747093\n",
        "3.02465820312"
       ]
      },
      {
       "output_type": "stream",
       "stream": "stdout",
       "text": [
        " 0.116934450465 0.0134185812651\n",
        "3.10180664062"
       ]
      },
      {
       "output_type": "stream",
       "stream": "stdout",
       "text": [
        " 0.0397860129648 0.01304014171\n",
        "3.1533203125 0.0117276589102 0.0127653769884\n",
        "3.09741210938"
       ]
      },
      {
       "output_type": "stream",
       "stream": "stdout",
       "text": [
        " 0.0441805442148 0.0130627398448\n",
        "3.34301757812 0.201424924535 0.0115780717169\n",
        "3.125"
       ]
      },
      {
       "output_type": "stream",
       "stream": "stdout",
       "text": [
        " 0.0165926535898 0.0129187075736\n",
        "2.96264648438 0.178946169215 0.0136959870995\n",
        "2.97705078125"
       ]
      },
      {
       "output_type": "stream",
       "stream": "stdout",
       "text": [
        " 0.16454187234 0.0136335887379\n",
        "3.12524414062 0.0163485129648 0.0129174097295\n",
        "3.02221679688"
       ]
      },
      {
       "output_type": "stream",
       "stream": "stdout",
       "text": [
        " 0.119375856715 0.0134299415974\n",
        "3.11206054688 0.0295321067148 0.0129869068589\n",
        "3.12744140625"
       ]
      },
      {
       "output_type": "stream",
       "stream": "stdout",
       "text": [
        " 0.0141512473398 0.012905710575\n",
        "3.44091796875 0.29932531516 0.0108358992185\n",
        "3.09228515625"
       ]
      },
      {
       "output_type": "stream",
       "stream": "stdout",
       "text": [
        " 0.0493074973398 0.0130889412071\n",
        "3.24047851562 0.0988858620352 0.0122564482298\n",
        "3.0810546875"
       ]
      },
      {
       "output_type": "stream",
       "stream": "stdout",
       "text": [
        " 0.0605379660898 0.0131457257366\n",
        "3.267578125 0.12598547141 0.0120860301614\n",
        "3.15576171875"
       ]
      },
      {
       "output_type": "stream",
       "stream": "stdout",
       "text": [
        " 0.0141690651602 0.0127518927858\n",
        "3.19287109375 0.0512784401602 0.0125415777114\n",
        "3.05200195312"
       ]
      },
      {
       "output_type": "stream",
       "stream": "stdout",
       "text": [
        " 0.0895907004648 0.0132888119341\n",
        "3.08178710938 0.0598055442148 0.0131420477316\n",
        "3.162109375"
       ]
      },
      {
       "output_type": "stream",
       "stream": "stdout",
       "text": [
        " 0.0205167214102 0.0127166330599\n",
        "3.23583984375 0.0942471901602 0.0122850162219\n",
        "2.98120117188"
       ]
      },
      {
       "output_type": "stream",
       "stream": "stdout",
       "text": [
        " 0.160391481715 0.0136153838726\n",
        "3.212890625"
       ]
      },
      {
       "output_type": "stream",
       "stream": "stdout",
       "text": [
        " 0.0712979714102 0.0124238312428\n",
        "3.23583984375 0.0942471901602 0.0122850162219\n",
        "3.03759765625"
       ]
      },
      {
       "output_type": "stream",
       "stream": "stdout",
       "text": [
        " 0.10399499734 0.0133577555299\n",
        "3.36645507812"
       ]
      },
      {
       "output_type": "stream",
       "stream": "stdout",
       "text": [
        " 0.224862424535 0.0114094615542\n",
        "3.07543945312 0.0661532004648 0.0131738070913\n",
        "3.10229492188"
       ]
      },
      {
       "output_type": "stream",
       "stream": "stdout",
       "text": [
        " 0.0392977317148 0.0130376228076\n",
        "3.12133789062 0.0202547629648 0.0129381258695\n",
        "3.17602539062"
       ]
      },
      {
       "output_type": "stream",
       "stream": "stdout",
       "text": [
        " 0.0344327370352 0.0126383077889\n",
        "0.07 fraction: error bar including pi\n"
       ]
      }
     ],
     "prompt_number": 23
    },
    {
     "cell_type": "code",
     "collapsed": false,
     "input": [
      "%pylab inline\n",
      "import random, pylab, math\n",
      "\n",
      "def markov_pi_all_data(N, delta):\n",
      "    x, y = 1.0, 1.0\n",
      "    data = []\n",
      "    for i in range(N):\n",
      "        del_x, del_y = random.uniform(-delta, delta), random.uniform(-delta, delta)\n",
      "        if abs(x + del_x) < 1.0 and abs(y + del_y) < 1.0:\n",
      "            x, y = x + del_x, y + del_y\n",
      "        if x ** 2 + y ** 2 < 1.0:\n",
      "            data.append(4.0)\n",
      "        else:\n",
      "            data.append(0.0)\n",
      "    return data\n",
      "\n",
      "poweroftwo = 14\n",
      "n_trials = 2 ** poweroftwo\n",
      "delta = 0.1\n",
      "data = markov_pi_all_data(n_trials, delta)\n",
      "errors  = []\n",
      "bunches = []\n",
      "for i in range(poweroftwo):\n",
      "    new_data = []\n",
      "    mean = 0.0\n",
      "    mean_sq = 0.0\n",
      "    N = len(data)\n",
      "    while data != []:\n",
      "        x = data.pop()\n",
      "        y = data.pop()\n",
      "        mean += x + y\n",
      "        mean_sq += x ** 2 + y ** 2\n",
      "        new_data.append((x + y) / 2.0 )\n",
      "    errors.append(math.sqrt(mean_sq / N - (mean / N) ** 2) / math.sqrt(N))\n",
      "    bunches.append(i)\n",
      "    data = new_data[:]\n",
      "pylab.plot(bunches, errors, 'o')\n",
      "pylab.xlabel('iteration')\n",
      "pylab.ylabel('naive error')\n",
      "pylab.title('Bunching: naive error vs iteration number')\n",
      "pylab.savefig('apparent_error_bunching.png', format='PNG')\n",
      "pylab.show()"
     ],
     "language": "python",
     "metadata": {},
     "outputs": [
      {
       "output_type": "stream",
       "stream": "stdout",
       "text": [
        "Populating the interactive namespace from numpy and matplotlib\n"
       ]
      },
      {
       "output_type": "stream",
       "stream": "stderr",
       "text": [
        "WARNING: pylab import has clobbered these variables: ['mean', 'pylab', 'random', 'pi']\n",
        "`%pylab --no-import-all` prevents importing * from pylab and numpy\n"
       ]
      },
      {
       "metadata": {},
       "output_type": "display_data",
       "png": "[encoded data removed]",
       "text": [
        "<matplotlib.figure.Figure at 0x3d7ae10>"
       ]
      }
     ],
     "prompt_number": 24
    }
   ],
   "metadata": {}
  }
 ]
}